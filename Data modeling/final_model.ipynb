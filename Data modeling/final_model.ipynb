{
 "cells": [
  {
   "cell_type": "markdown",
   "metadata": {},
   "source": [
    "# Model"
   ]
  },
  {
   "cell_type": "code",
   "execution_count": 1,
   "metadata": {
    "collapsed": false,
    "jupyter": {
     "outputs_hidden": false
    }
   },
   "outputs": [
    {
     "name": "stdout",
     "output_type": "stream",
     "text": [
      "Requirement already satisfied: imblearn in /srv/conda/envs/notebook/lib/python3.10/site-packages (0.0)\n",
      "Requirement already satisfied: imbalanced-learn in /srv/conda/envs/notebook/lib/python3.10/site-packages (from imblearn) (0.10.1)\n",
      "Requirement already satisfied: scikit-learn>=1.0.2 in /srv/conda/envs/notebook/lib/python3.10/site-packages (from imbalanced-learn->imblearn) (1.1.2)\n",
      "Requirement already satisfied: threadpoolctl>=2.0.0 in /srv/conda/envs/notebook/lib/python3.10/site-packages (from imbalanced-learn->imblearn) (3.1.0)\n",
      "Requirement already satisfied: joblib>=1.1.1 in /srv/conda/envs/notebook/lib/python3.10/site-packages (from imbalanced-learn->imblearn) (1.2.0)\n",
      "Requirement already satisfied: scipy>=1.3.2 in /srv/conda/envs/notebook/lib/python3.10/site-packages (from imbalanced-learn->imblearn) (1.9.1)\n",
      "Requirement already satisfied: numpy>=1.17.3 in /srv/conda/envs/notebook/lib/python3.10/site-packages (from imbalanced-learn->imblearn) (1.22.4)\n"
     ]
    }
   ],
   "source": [
    "!pip install imblearn"
   ]
  },
  {
   "cell_type": "code",
   "execution_count": 2,
   "metadata": {
    "collapsed": false,
    "jupyter": {
     "outputs_hidden": false
    }
   },
   "outputs": [],
   "source": [
    "# Supress Warnings\n",
    "import warnings\n",
    "warnings.filterwarnings('ignore')\n",
    "\n",
    "# Visualization\n",
    "import ipyleaflet\n",
    "import matplotlib.pyplot as plt\n",
    "from IPython.display import Image\n",
    "import seaborn as sns\n",
    "\n",
    "# Data Science\n",
    "import numpy as np\n",
    "import numpy.ma as ma\n",
    "import pandas as pd\n",
    "import xarray as xr\n",
    "\n",
    "# Feature Engineering\n",
    "from sklearn.preprocessing import StandardScaler, MinMaxScaler, RobustScaler, MaxAbsScaler, Normalizer\n",
    "from sklearn.model_selection import train_test_split\n",
    "\n",
    "# Machine Learning\n",
    "from sklearn.linear_model import LogisticRegression\n",
    "from sklearn.metrics import f1_score, accuracy_score,classification_report,confusion_matrix\n",
    "from sklearn.ensemble import IsolationForest, GradientBoostingClassifier, RandomForestClassifier\n",
    "from sklearn.neighbors import LocalOutlierFactor\n",
    "from sklearn.metrics import mean_squared_error, accuracy_score, confusion_matrix, roc_auc_score, f1_score, precision_recall_fscore_support\n",
    "from sklearn.preprocessing import MinMaxScaler, StandardScaler\n",
    "from sklearn.pipeline import Pipeline\n",
    "from sklearn.metrics import classification_report\n",
    "from sklearn.model_selection import GridSearchCV, StratifiedKFold\n",
    "from sklearn.svm import SVC\n",
    "from sklearn.tree import DecisionTreeClassifier\n",
    "from sklearn.neighbors import KNeighborsClassifier\n",
    "from sklearn.neural_network import MLPClassifier\n",
    "from sklearn.feature_selection import SelectKBest\n",
    "from sklearn.feature_selection import f_classif, chi2, mutual_info_classif\n",
    "from sklearn.model_selection import KFold\n",
    "from sklearn.impute import KNNImputer, SimpleImputer\n",
    "from sklearn.feature_selection import RFECV\n",
    "import imblearn\n",
    "# Planetary Computer Tools\n",
    "import pystac\n",
    "import pystac_client\n",
    "import odc\n",
    "from pystac_client import Client\n",
    "from pystac.extensions.eo import EOExtension as eo\n",
    "from odc.stac import stac_load\n",
    "import planetary_computer as pc\n",
    "#pc.settings.set_subscription_key('******')\n",
    "\n",
    "# Others\n",
    "import requests\n",
    "import rich.table\n",
    "from itertools import cycle\n",
    "from tqdm import tqdm\n",
    "tqdm.pandas()\n",
    "import os"
   ]
  },
  {
   "cell_type": "code",
   "execution_count": 3,
   "metadata": {
    "collapsed": false,
    "jupyter": {
     "outputs_hidden": false
    }
   },
   "outputs": [
    {
     "name": "stdout",
     "output_type": "stream",
     "text": [
      "/home/jovyan/EY-Crop-identification\n"
     ]
    }
   ],
   "source": [
    "os.chdir('/home/jovyan/EY-Crop-identification')\n",
    "print(os.getcwd())"
   ]
  },
  {
   "cell_type": "code",
   "execution_count": 4,
   "metadata": {
    "tags": []
   },
   "outputs": [],
   "source": [
    "crop_data = pd.read_parquet(\"Data/crop_data_features_train.parquet.gzip\")\n",
    "crop_data = crop_data.drop([\"Latitude and Longitude\", \"Latitude\", \"Longitude\"], axis=1)\n",
    "# Remove columns starting with 'ndvi_clean' as 'ndvi_clean' contains too many NANs\n",
    "crop_data = crop_data.drop(columns=[col for col in crop_data.columns if col.startswith('ndvi_clean')])"
   ]
  },
  {
   "cell_type": "code",
   "execution_count": 5,
   "metadata": {},
   "outputs": [
    {
     "data": {
      "text/plain": [
       "0"
      ]
     },
     "execution_count": 5,
     "metadata": {},
     "output_type": "execute_result"
    }
   ],
   "source": [
    "crop_data.isna().sum().sum()"
   ]
  },
  {
   "cell_type": "markdown",
   "metadata": {},
   "source": [
    "# Preprocessing"
   ]
  },
  {
   "cell_type": "code",
   "execution_count": 6,
   "metadata": {},
   "outputs": [],
   "source": [
    "def AD_IForest(df, anomaly_ratio=0.015, n_trees=100):\n",
    "    \"\"\"\n",
    "    Use Isolation Forest to detect potential outliers,\n",
    "    takes df as input, return indexes of anomalies,\n",
    "    score < 0 --> outliers\n",
    "    \"\"\"\n",
    "    model_IF = IsolationForest(contamination=anomaly_ratio, n_estimators=n_trees, random_state=42)\n",
    "    model_IF.fit(df)\n",
    "    inliers = model_IF.predict(df)\n",
    "    inlier_idx = np.where(inliers == 1)[0]\n",
    "    outlier_idx = np.where(inliers == -1)[0]\n",
    "    return inlier_idx, outlier_idx\n",
    "\n",
    "\n",
    "def preproc_data(X, y, anomaly_ratio=0.01):\n",
    "    '''\n",
    "    preprocess data \n",
    "    fill NAN with mean\n",
    "    Anomaly detection\n",
    "    Oversample\n",
    "    '''\n",
    "    imputer = SimpleImputer(missing_values=np.nan, strategy='mean')\n",
    "    X = imputer.fit_transform(X)\n",
    "    ## Anomaly detection\n",
    "    inlier_idx, outlier_idx = AD_IForest(X, anomaly_ratio=0.005, n_trees=100)\n",
    "    print(f\"Drop {len(X) - len(inlier_idx)} outliers\")\n",
    "    X = np.array(X[inlier_idx])\n",
    "    y = np.array(y[inlier_idx])\n",
    "    # Oversample\n",
    "    oversample = imblearn.over_sampling.SMOTE(random_state=100, k_neighbors=5)\n",
    "    X, y = oversample.fit_resample(X, y)\n",
    "    print(X.shape)\n",
    "    return X, y"
   ]
  },
  {
   "cell_type": "code",
   "execution_count": 7,
   "metadata": {},
   "outputs": [],
   "source": [
    "def cv_train(kfold, scalers, models, X, y):\n",
    "    '''\n",
    "    A pipeline contains a scaler and a model.\n",
    "    To select the best combinations, we train each pipeline in a k-fold CV,\n",
    "    taking the average f1-score across all folds as the\n",
    "    pipeline score.\n",
    "    \n",
    "    return the scores and best combination\n",
    "    '''\n",
    "    scores = {}\n",
    "    max_score = 0\n",
    "    best_comb = ()\n",
    "    for scaler_name in scalers:\n",
    "        scaler_score = 0\n",
    "        scores[scaler_name] = {}\n",
    "        print(f'Training models using: {scaler_name} scaler')\n",
    "        for model_name in models:\n",
    "            print(f'  Training {model_name} model')\n",
    "            scaler = scalers[scaler_name]\n",
    "            model = models[model_name]\n",
    "            pipe = Pipeline([\n",
    "                ('scaler', scaler),\n",
    "                ('model', model),\n",
    "            ])\n",
    "            if scaler_name == \"None\":\n",
    "                # without scaler\n",
    "                pipe = Pipeline([\n",
    "                ('model', model)\n",
    "            ])\n",
    "            score = 0\n",
    "            # train models with kfold and compute the avg f1 score across all folds\n",
    "            for train_index, val_index in kfold.split(X):\n",
    "                X_train, X_val = X[train_index], X[val_index]\n",
    "                y_train, y_val = y[train_index], y[val_index]\n",
    "                pipe.fit(X_train, y_train)\n",
    "                y_pred = pipe.predict(X_val)\n",
    "                score += f1_score(y_true=y_val, y_pred=y_pred, pos_label=\"Rice\")\n",
    "            fold_score = score/kfold.get_n_splits()\n",
    "            scores[scaler_name][model_name] = fold_score\n",
    "            scaler_score += fold_score\n",
    "            if fold_score > max_score:\n",
    "                best_comb = (scaler_name, model_name)\n",
    "            max_score = max(max_score, fold_score)\n",
    "        print(\"scalar score avg: \", scaler_score / len(models))\n",
    "    return scores, best_comb\n",
    "\n",
    "def k_fold_val(model, param_grid, X_train, y_train, num_fold=5, scoring=\"f1\"):\n",
    "    '''\n",
    "    Use GridSearch and k-fold CV to find the best hyperparameters for the model.\n",
    "    '''\n",
    "    # Use stratifiedKfold to ensure equal distribution of classes.\n",
    "    kfolds = StratifiedKFold(num_fold)\n",
    "    grid = GridSearchCV(model, param_grid, n_jobs=1,\n",
    "                        cv=kfolds.split(X_train,\n",
    "                                        y_train), scoring=scoring, verbose=1)\n",
    "    grid.fit(X_train, y_train)\n",
    "    return grid"
   ]
  },
  {
   "cell_type": "markdown",
   "metadata": {},
   "source": [
    "## plot confusion matrix"
   ]
  },
  {
   "cell_type": "code",
   "execution_count": 8,
   "metadata": {
    "collapsed": false,
    "jupyter": {
     "outputs_hidden": false
    }
   },
   "outputs": [],
   "source": [
    "def plot_confusion_matrix(true_value,predicted_value,title,labels):\n",
    "    '''\n",
    "    Plots a confusion matrix.\n",
    "    Attributes:\n",
    "    true_value - The ground truth value for comparision.\n",
    "    predicted_value - The values predicted by the model.\n",
    "    title - Title of the plot.\n",
    "    labels - The x and y labels of the plot.\n",
    "    '''\n",
    "    cm = confusion_matrix(true_value,predicted_value)\n",
    "    ax= plt.subplot()\n",
    "    sns.heatmap(cm, annot=True, fmt='g', ax=ax, cmap='Blues');\n",
    "    ax.set_xlabel('Predicted labels');\n",
    "    ax.set_ylabel('True labels');\n",
    "    ax.set_title(title);\n",
    "    ax.xaxis.set_ticklabels(labels);\n",
    "    ax.yaxis.set_ticklabels(labels);"
   ]
  },
  {
   "cell_type": "markdown",
   "metadata": {},
   "source": [
    "## train test split"
   ]
  },
  {
   "cell_type": "code",
   "execution_count": 9,
   "metadata": {
    "collapsed": false,
    "jupyter": {
     "outputs_hidden": false
    }
   },
   "outputs": [],
   "source": [
    "X = crop_data.drop(columns=['Class of Land']).values\n",
    "y = crop_data ['Class of Land'].values\n",
    "X_train, X_test, y_train, y_test = train_test_split(X, y, test_size=0.2, stratify=y, random_state=40)"
   ]
  },
  {
   "cell_type": "code",
   "execution_count": 10,
   "metadata": {
    "collapsed": false,
    "jupyter": {
     "outputs_hidden": false
    }
   },
   "outputs": [
    {
     "name": "stdout",
     "output_type": "stream",
     "text": [
      "Drop 3 outliers\n",
      "(480, 186)\n"
     ]
    }
   ],
   "source": [
    "X_train, y_train = preproc_data(X_train, y_train)"
   ]
  },
  {
   "cell_type": "code",
   "execution_count": 11,
   "metadata": {
    "collapsed": false,
    "jupyter": {
     "outputs_hidden": false
    }
   },
   "outputs": [
    {
     "data": {
      "text/plain": [
       "(480, 186)"
      ]
     },
     "execution_count": 11,
     "metadata": {},
     "output_type": "execute_result"
    }
   ],
   "source": [
    "X_train.shape"
   ]
  },
  {
   "cell_type": "markdown",
   "metadata": {},
   "source": [
    "## Model Training"
   ]
  },
  {
   "cell_type": "markdown",
   "metadata": {},
   "source": [
    "### Model selection"
   ]
  },
  {
   "cell_type": "code",
   "execution_count": 12,
   "metadata": {
    "collapsed": false,
    "jupyter": {
     "outputs_hidden": false
    }
   },
   "outputs": [
    {
     "name": "stdout",
     "output_type": "stream",
     "text": [
      "Training models using: minmax scaler\n",
      "  Training gb model\n",
      "  Training rf model\n",
      "  Training svc model\n",
      "  Training MLPC model\n",
      "  Training knn model\n",
      "  Training decisiontree model\n",
      "scalar score avg:  0.9978938222062163\n",
      "Training models using: standard scaler\n",
      "  Training gb model\n",
      "  Training rf model\n",
      "  Training svc model\n",
      "  Training MLPC model\n",
      "  Training knn model\n",
      "  Training decisiontree model\n",
      "scalar score avg:  0.9968542014404096\n",
      "Training models using: robust scaler\n",
      "  Training gb model\n",
      "  Training rf model\n",
      "  Training svc model\n",
      "  Training MLPC model\n",
      "  Training knn model\n",
      "  Training decisiontree model\n",
      "scalar score avg:  0.8632767818721248\n",
      "Training models using: maxabs scaler\n",
      "  Training gb model\n",
      "  Training rf model\n",
      "  Training svc model\n",
      "  Training MLPC model\n",
      "  Training knn model\n",
      "  Training decisiontree model\n",
      "scalar score avg:  0.9975644272903551\n",
      "Training models using: normalizer scaler\n",
      "  Training gb model\n",
      "  Training rf model\n",
      "  Training svc model\n",
      "  Training MLPC model\n",
      "  Training knn model\n",
      "  Training decisiontree model\n",
      "scalar score avg:  0.7690335360215759\n",
      "Training models using: None scaler\n",
      "  Training gb model\n",
      "  Training rf model\n",
      "  Training svc model\n",
      "  Training MLPC model\n",
      "  Training knn model\n",
      "  Training decisiontree model\n",
      "scalar score avg:  0.7144550795528953\n"
     ]
    }
   ],
   "source": [
    "models = {\n",
    "    'gb': GradientBoostingClassifier(criterion=\"squared_error\", n_estimators=20, max_depth=None, random_state=7),\n",
    "    'rf': RandomForestClassifier(n_estimators=20, n_jobs=-1, random_state=7),\n",
    "    'svc':SVC(max_iter=500),\n",
    "    'MLPC': MLPClassifier(),\n",
    "    \"knn\": KNeighborsClassifier(n_neighbors=10),\n",
    "    \"decisiontree\": DecisionTreeClassifier()\n",
    "    \n",
    "}\n",
    "scalers = {\n",
    "    \"minmax\": MinMaxScaler(),\n",
    "    \"standard\": StandardScaler(),\n",
    "    \"robust\": RobustScaler(),\n",
    "    \"maxabs\": MaxAbsScaler(),\n",
    "    \"normalizer\": Normalizer(),\n",
    "    \"None\": None\n",
    "\n",
    "}\n",
    "kfold = KFold(n_splits=5)\n",
    "model_scores, best_comb = cv_train(kfold, scalers, models, X_train, y_train)"
   ]
  },
  {
   "cell_type": "code",
   "execution_count": 13,
   "metadata": {
    "collapsed": false,
    "jupyter": {
     "outputs_hidden": false
    }
   },
   "outputs": [
    {
     "data": {
      "text/plain": [
       "{'minmax': {'gb': 1.0,\n",
       "  'rf': 1.0,\n",
       "  'svc': 0.9978494623655914,\n",
       "  'MLPC': 0.9958745348219032,\n",
       "  'knn': 0.9978947368421054,\n",
       "  'decisiontree': 0.9957441992076967},\n",
       " 'standard': {'gb': 1.0,\n",
       "  'rf': 1.0,\n",
       "  'svc': 0.9916112561273852,\n",
       "  'MLPC': 0.9937244788308618,\n",
       "  'knn': 0.9978947368421054,\n",
       "  'decisiontree': 0.9978947368421054},\n",
       " 'robust': {'gb': 1.0,\n",
       "  'rf': 1.0,\n",
       "  'svc': 0.2610459962572639,\n",
       "  'MLPC': 0.9817776704644359,\n",
       "  'knn': 0.938987562145457,\n",
       "  'decisiontree': 0.9978494623655914},\n",
       " 'maxabs': {'gb': 1.0,\n",
       "  'rf': 1.0,\n",
       "  'svc': 0.9978494623655914,\n",
       "  'MLPC': 0.9958745348219032,\n",
       "  'knn': 0.9978947368421054,\n",
       "  'decisiontree': 0.9937678297125302},\n",
       " 'normalizer': {'gb': 0.9320819214051698,\n",
       "  'rf': 0.9813883741861439,\n",
       "  'svc': 0.5884207473829509,\n",
       "  'MLPC': 0.6572540800904427,\n",
       "  'knn': 0.5225614117499859,\n",
       "  'decisiontree': 0.9324946813147619},\n",
       " 'None': {'gb': 1.0,\n",
       "  'rf': 1.0,\n",
       "  'svc': 0.2610459962572639,\n",
       "  'MLPC': 0.5799627317684635,\n",
       "  'knn': 0.4457217492916447,\n",
       "  'decisiontree': 1.0}}"
      ]
     },
     "execution_count": 13,
     "metadata": {},
     "output_type": "execute_result"
    }
   ],
   "source": [
    "model_scores"
   ]
  },
  {
   "cell_type": "markdown",
   "metadata": {},
   "source": [
    "As the result, RF achieves the most number of perfect scores, and MinMaxScaler has the highest avg f1 across all models."
   ]
  },
  {
   "cell_type": "markdown",
   "metadata": {},
   "source": [
    "### Hyperparameter tuning\n",
    "Tune the random forest classifier using grid search and perform feature selection using ANOVA F-value"
   ]
  },
  {
   "cell_type": "code",
   "execution_count": 14,
   "metadata": {
    "collapsed": false,
    "jupyter": {
     "outputs_hidden": false
    }
   },
   "outputs": [
    {
     "name": "stdout",
     "output_type": "stream",
     "text": [
      "Fitting 5 folds for each of 768 candidates, totalling 3840 fits\n"
     ]
    }
   ],
   "source": [
    "param_grid = {'feature__score_func': [f_classif],\n",
    "              # tune the number of features to select\n",
    "              'feature__k': [100, 120, 150], \n",
    "              'model__n_estimators': [20, 30, 40, 50],\n",
    "              'model__max_depth': [None, 10, 20, 30],\n",
    "              'model__min_samples_split': [2, 5],\n",
    "              'model__min_samples_leaf': [1, 2],\n",
    "              'model__max_features': ['sqrt', 'log2'],\n",
    "              'model__bootstrap': [True, False],\n",
    "              'model__n_jobs': [-1],\n",
    "              'model__random_state': [7]\n",
    "              }\n",
    "\n",
    "\n",
    "pipe = Pipeline([\n",
    "        ('scaler', MinMaxScaler()),\n",
    "        # add feature selection\n",
    "        ('feature', SelectKBest()),\n",
    "        ('model', RandomForestClassifier()),\n",
    "        ])\n",
    "k_fold = k_fold_val(pipe, param_grid, X_train, y_train, num_fold=5)"
   ]
  },
  {
   "cell_type": "code",
   "execution_count": 15,
   "metadata": {
    "collapsed": false,
    "jupyter": {
     "outputs_hidden": false
    }
   },
   "outputs": [
    {
     "data": {
      "text/plain": [
       "{'feature__k': 100,\n",
       " 'feature__score_func': <function sklearn.feature_selection._univariate_selection.f_classif(X, y)>,\n",
       " 'model__bootstrap': True,\n",
       " 'model__max_depth': None,\n",
       " 'model__max_features': 'sqrt',\n",
       " 'model__min_samples_leaf': 1,\n",
       " 'model__min_samples_split': 2,\n",
       " 'model__n_estimators': 20,\n",
       " 'model__n_jobs': -1,\n",
       " 'model__random_state': 7}"
      ]
     },
     "execution_count": 15,
     "metadata": {},
     "output_type": "execute_result"
    }
   ],
   "source": [
    "k_fold.best_params_"
   ]
  },
  {
   "cell_type": "code",
   "execution_count": 16,
   "metadata": {
    "collapsed": false,
    "jupyter": {
     "outputs_hidden": false
    }
   },
   "outputs": [],
   "source": [
    "model = k_fold.best_estimator_"
   ]
  },
  {
   "cell_type": "code",
   "execution_count": 17,
   "metadata": {
    "collapsed": false,
    "jupyter": {
     "outputs_hidden": false
    }
   },
   "outputs": [
    {
     "data": {
      "text/plain": [
       "{'scaler': MinMaxScaler(),\n",
       " 'feature': SelectKBest(k=100),\n",
       " 'model': RandomForestClassifier(n_estimators=20, n_jobs=-1, random_state=7)}"
      ]
     },
     "execution_count": 17,
     "metadata": {},
     "output_type": "execute_result"
    }
   ],
   "source": [
    "model.named_steps"
   ]
  },
  {
   "cell_type": "markdown",
   "metadata": {},
   "source": [
    "## Model Training"
   ]
  },
  {
   "cell_type": "code",
   "execution_count": 18,
   "metadata": {
    "collapsed": false,
    "jupyter": {
     "outputs_hidden": false
    }
   },
   "outputs": [],
   "source": [
    "\n",
    "def train(X, y, model):\n",
    "    X, y = preproc_data(X, y)\n",
    "    model.fit(X, y)\n",
    "    insample_predictions = model.predict(X)\n",
    "    print(\"Insample Accuracy {0:.2f}%\".format(100 * accuracy_score(insample_predictions, y)))\n",
    "    print(classification_report(insample_predictions, y))\n",
    "    plot_confusion_matrix(y, insample_predictions, \"Model Level 1: RF Model In-Sample Results\",\n",
    "                          ['Rice', 'Non Rice'])\n",
    "    return model"
   ]
  },
  {
   "cell_type": "markdown",
   "metadata": {},
   "source": [
    "## Model Evaluation"
   ]
  },
  {
   "cell_type": "code",
   "execution_count": 19,
   "metadata": {
    "collapsed": false,
    "jupyter": {
     "outputs_hidden": false
    }
   },
   "outputs": [],
   "source": [
    "def test(X, y, model):\n",
    "    imputer = SimpleImputer(missing_values=np.nan, strategy='mean')\n",
    "    X = imputer.fit_transform(X)\n",
    "    outsample_predictions = model.predict(X)\n",
    "    print(\"Accuracy {0:.2f}%\".format(100*accuracy_score(outsample_predictions, y)))\n",
    "    print(classification_report(y, outsample_predictions))\n",
    "    plot_confusion_matrix(y, outsample_predictions,\"Model Level 1: RF Model Out-Sample Results\",['Rice', 'Non Rice'])"
   ]
  },
  {
   "cell_type": "markdown",
   "metadata": {},
   "source": [
    "## Train model"
   ]
  },
  {
   "cell_type": "markdown",
   "metadata": {},
   "source": [
    "Train the tuned model"
   ]
  },
  {
   "cell_type": "code",
   "execution_count": 20,
   "metadata": {
    "collapsed": false,
    "jupyter": {
     "outputs_hidden": false
    }
   },
   "outputs": [
    {
     "name": "stdout",
     "output_type": "stream",
     "text": [
      "Drop 3 outliers\n",
      "(480, 186)\n",
      "Insample Accuracy 100.00%\n",
      "              precision    recall  f1-score   support\n",
      "\n",
      "    Non Rice       1.00      1.00      1.00       240\n",
      "        Rice       1.00      1.00      1.00       240\n",
      "\n",
      "    accuracy                           1.00       480\n",
      "   macro avg       1.00      1.00      1.00       480\n",
      "weighted avg       1.00      1.00      1.00       480\n",
      "\n"
     ]
    },
    {
     "data": {
      "image/png": "[encoded data removed]",
      "text/plain": [
       "<Figure size 640x480 with 2 Axes>"
      ]
     },
     "metadata": {},
     "output_type": "display_data"
    }
   ],
   "source": [
    "model = train(X_train, y_train, model)"
   ]
  },
  {
   "cell_type": "markdown",
   "metadata": {},
   "source": [
    "## Out-sample evaluation"
   ]
  },
  {
   "cell_type": "code",
   "execution_count": 21,
   "metadata": {
    "collapsed": false,
    "jupyter": {
     "outputs_hidden": false
    }
   },
   "outputs": [
    {
     "name": "stdout",
     "output_type": "stream",
     "text": [
      "Accuracy 100.00%\n",
      "              precision    recall  f1-score   support\n",
      "\n",
      "    Non Rice       1.00      1.00      1.00        60\n",
      "        Rice       1.00      1.00      1.00        60\n",
      "\n",
      "    accuracy                           1.00       120\n",
      "   macro avg       1.00      1.00      1.00       120\n",
      "weighted avg       1.00      1.00      1.00       120\n",
      "\n"
     ]
    },
    {
     "data": {
      "image/png": "[encoded data removed]",
      "text/plain": [
       "<Figure size 640x480 with 2 Axes>"
      ]
     },
     "metadata": {},
     "output_type": "display_data"
    }
   ],
   "source": [
    "test(X_test, y_test, model)"
   ]
  },
  {
   "cell_type": "markdown",
   "metadata": {},
   "source": [
    "## Train model using all data"
   ]
  },
  {
   "cell_type": "code",
   "execution_count": 22,
   "metadata": {
    "collapsed": false,
    "jupyter": {
     "outputs_hidden": false
    }
   },
   "outputs": [
    {
     "name": "stdout",
     "output_type": "stream",
     "text": [
      "Drop 3 outliers\n",
      "(600, 186)\n",
      "Insample Accuracy 100.00%\n",
      "              precision    recall  f1-score   support\n",
      "\n",
      "    Non Rice       1.00      1.00      1.00       300\n",
      "        Rice       1.00      1.00      1.00       300\n",
      "\n",
      "    accuracy                           1.00       600\n",
      "   macro avg       1.00      1.00      1.00       600\n",
      "weighted avg       1.00      1.00      1.00       600\n",
      "\n"
     ]
    },
    {
     "data": {
      "image/png": "[encoded data removed]",
      "text/plain": [
       "<Figure size 640x480 with 2 Axes>"
      ]
     },
     "metadata": {},
     "output_type": "display_data"
    }
   ],
   "source": [
    "model = train(X, y, model)"
   ]
  },
  {
   "cell_type": "markdown",
   "metadata": {},
   "source": [
    "## Make submission"
   ]
  },
  {
   "cell_type": "code",
   "execution_count": 23,
   "metadata": {
    "collapsed": false,
    "jupyter": {
     "outputs_hidden": false
    }
   },
   "outputs": [],
   "source": [
    "crop_data_test = pd.read_parquet(\"Data/crop_data_features_test.parquet.gzip\")"
   ]
  },
  {
   "cell_type": "code",
   "execution_count": 24,
   "metadata": {
    "collapsed": false,
    "jupyter": {
     "outputs_hidden": false
    }
   },
   "outputs": [],
   "source": [
    "# Feature Scaling\n",
    "submission_vh_vv_data = crop_data_test.drop([\"Latitude and Longitude\", \"target\", \"Latitude\", \"Longitude\"], axis=1)\n",
    "# Remove columns starting with 'ndvi_clean'\n",
    "submission_vh_vv_data = submission_vh_vv_data.drop(columns=[col for col in crop_data_test.columns if col.startswith('ndvi_clean')])"
   ]
  },
  {
   "cell_type": "code",
   "execution_count": 25,
   "metadata": {},
   "outputs": [],
   "source": [
    "# fill missing values with mean\n",
    "imputer = SimpleImputer(missing_values=np.nan, strategy='mean')\n",
    "submission_vh_vv_data = imputer.fit_transform(submission_vh_vv_data)"
   ]
  },
  {
   "cell_type": "code",
   "execution_count": 26,
   "metadata": {
    "collapsed": false,
    "jupyter": {
     "outputs_hidden": false
    }
   },
   "outputs": [],
   "source": [
    "#Making predictions\n",
    "final_predictions = model.predict(submission_vh_vv_data)\n",
    "final_prediction_series = pd.Series(final_predictions)"
   ]
  },
  {
   "cell_type": "code",
   "execution_count": 27,
   "metadata": {
    "collapsed": false,
    "jupyter": {
     "outputs_hidden": false
    }
   },
   "outputs": [],
   "source": [
    "#Combining the results into dataframe\n",
    "submission_df = pd.DataFrame({'id':crop_data_test['Latitude and Longitude'].values, 'target':final_prediction_series.values})"
   ]
  },
  {
   "cell_type": "code",
   "execution_count": 28,
   "metadata": {
    "collapsed": false,
    "jupyter": {
     "outputs_hidden": false
    }
   },
   "outputs": [
    {
     "data": {
      "text/html": [
       "<div>\n",
       "<style scoped>\n",
       "    .dataframe tbody tr th:only-of-type {\n",
       "        vertical-align: middle;\n",
       "    }\n",
       "\n",
       "    .dataframe tbody tr th {\n",
       "        vertical-align: top;\n",
       "    }\n",
       "\n",
       "    .dataframe thead th {\n",
       "        text-align: right;\n",
       "    }\n",
       "</style>\n",
       "<table border=\"1\" class=\"dataframe\">\n",
       "  <thead>\n",
       "    <tr style=\"text-align: right;\">\n",
       "      <th></th>\n",
       "      <th>id</th>\n",
       "      <th>target</th>\n",
       "    </tr>\n",
       "  </thead>\n",
       "  <tbody>\n",
       "    <tr>\n",
       "      <th>0</th>\n",
       "      <td>(10.18019073690894, 105.32022315786804)</td>\n",
       "      <td>Rice</td>\n",
       "    </tr>\n",
       "    <tr>\n",
       "      <th>1</th>\n",
       "      <td>(10.561107033461816, 105.12772097986661)</td>\n",
       "      <td>Rice</td>\n",
       "    </tr>\n",
       "    <tr>\n",
       "      <th>2</th>\n",
       "      <td>(10.623790611954897, 105.13771401411867)</td>\n",
       "      <td>Rice</td>\n",
       "    </tr>\n",
       "    <tr>\n",
       "      <th>3</th>\n",
       "      <td>(10.583364246115156, 105.23946127195805)</td>\n",
       "      <td>Non Rice</td>\n",
       "    </tr>\n",
       "    <tr>\n",
       "      <th>4</th>\n",
       "      <td>(10.20744446668854, 105.26844107128906)</td>\n",
       "      <td>Rice</td>\n",
       "    </tr>\n",
       "    <tr>\n",
       "      <th>...</th>\n",
       "      <td>...</td>\n",
       "      <td>...</td>\n",
       "    </tr>\n",
       "    <tr>\n",
       "      <th>245</th>\n",
       "      <td>(10.308283266873062, 105.50872812216863)</td>\n",
       "      <td>Non Rice</td>\n",
       "    </tr>\n",
       "    <tr>\n",
       "      <th>246</th>\n",
       "      <td>(10.582910017285496, 105.23991550078767)</td>\n",
       "      <td>Non Rice</td>\n",
       "    </tr>\n",
       "    <tr>\n",
       "      <th>247</th>\n",
       "      <td>(10.581547330796518, 105.23991550078767)</td>\n",
       "      <td>Non Rice</td>\n",
       "    </tr>\n",
       "    <tr>\n",
       "      <th>248</th>\n",
       "      <td>(10.629241357910818, 105.15315779432643)</td>\n",
       "      <td>Rice</td>\n",
       "    </tr>\n",
       "    <tr>\n",
       "      <th>249</th>\n",
       "      <td>(10.574733898351617, 105.10410108072531)</td>\n",
       "      <td>Rice</td>\n",
       "    </tr>\n",
       "  </tbody>\n",
       "</table>\n",
       "<p>250 rows × 2 columns</p>\n",
       "</div>"
      ],
      "text/plain": [
       "                                           id    target\n",
       "0     (10.18019073690894, 105.32022315786804)      Rice\n",
       "1    (10.561107033461816, 105.12772097986661)      Rice\n",
       "2    (10.623790611954897, 105.13771401411867)      Rice\n",
       "3    (10.583364246115156, 105.23946127195805)  Non Rice\n",
       "4     (10.20744446668854, 105.26844107128906)      Rice\n",
       "..                                        ...       ...\n",
       "245  (10.308283266873062, 105.50872812216863)  Non Rice\n",
       "246  (10.582910017285496, 105.23991550078767)  Non Rice\n",
       "247  (10.581547330796518, 105.23991550078767)  Non Rice\n",
       "248  (10.629241357910818, 105.15315779432643)      Rice\n",
       "249  (10.574733898351617, 105.10410108072531)      Rice\n",
       "\n",
       "[250 rows x 2 columns]"
      ]
     },
     "metadata": {},
     "output_type": "display_data"
    }
   ],
   "source": [
    "#Displaying the sample submission dataframe\n",
    "display(submission_df)"
   ]
  },
  {
   "cell_type": "code",
   "execution_count": 29,
   "metadata": {
    "collapsed": false,
    "jupyter": {
     "outputs_hidden": false
    }
   },
   "outputs": [],
   "source": [
    "#Dumping the predictions into a csv file.\n",
    "submission_df.to_csv(\"Output/challenge_1_submission_rice_crop_prediction.csv\",index = False)"
   ]
  },
  {
   "cell_type": "code",
   "execution_count": 30,
   "metadata": {},
   "outputs": [],
   "source": [
    "import pickle\n",
    "\n",
    "# Save the trained model to a file\n",
    "filename = 'Models/final_model_rf.pkl'\n",
    "with open(filename, 'wb') as file:\n",
    "    pickle.dump(model, file)\n"
   ]
  },
  {
   "cell_type": "code",
   "execution_count": null,
   "metadata": {},
   "outputs": [],
   "source": []
  }
 ],
 "metadata": {
  "kernelspec": {
   "display_name": "Python 3 (ipykernel)",
   "language": "python",
   "name": "python3"
  },
  "language_info": {
   "codemirror_mode": {
    "name": "ipython",
    "version": 3
   },
   "file_extension": ".py",
   "mimetype": "text/x-python",
   "name": "python",
   "nbconvert_exporter": "python",
   "pygments_lexer": "ipython3",
   "version": "3.10.6"
  }
 },
 "nbformat": 4,
 "nbformat_minor": 4
}
